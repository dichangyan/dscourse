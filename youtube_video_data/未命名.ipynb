{
 "cells": [
  {
   "cell_type": "code",
   "execution_count": 1,
   "id": "2522471a",
   "metadata": {},
   "outputs": [
    {
     "data": {
      "text/plain": [
       "'/Users/dichangyan/Desktop/数据科学编程-ymq/code/scratchgit/dscourse/youtube_video_data'"
      ]
     },
     "execution_count": 1,
     "metadata": {},
     "output_type": "execute_result"
    }
   ],
   "source": [
    "pwd"
   ]
  },
  {
   "cell_type": "code",
   "execution_count": 8,
   "id": "b1fb90be",
   "metadata": {},
   "outputs": [
    {
     "data": {
      "text/plain": [
       "array([[7426393,   78240,   13548,     705],\n",
       "       [ 494203,    2651,    1309,       0],\n",
       "       [ 142819,   13119,     151,    1141],\n",
       "       ...,\n",
       "       [ 109222,    4840,      35,     212],\n",
       "       [ 626223,   22962,     532,    1559],\n",
       "       [  99228,    1699,      23,     135]])"
      ]
     },
     "execution_count": 8,
     "metadata": {},
     "output_type": "execute_result"
    }
   ],
   "source": [
    "import numpy as np\n",
    "us_data=\"GB_video_data_numbers.csv\"\n",
    "uk_data=\"US_video_data_numbers.csv\"\n",
    "us_data=np.loadtxt(us_data,delimiter=\",\",dtype=float)\n",
    "uk_data=np.loadtxt(uk_data,delimiter=\",\",dtype=float)\n",
    "us_data.astype(int)"
   ]
  },
  {
   "cell_type": "code",
   "execution_count": null,
   "id": "c89bc6e7",
   "metadata": {},
   "outputs": [],
   "source": []
  }
 ],
 "metadata": {
  "kernelspec": {
   "display_name": "Python 3",
   "language": "python",
   "name": "python3"
  },
  "language_info": {
   "codemirror_mode": {
    "name": "ipython",
    "version": 3
   },
   "file_extension": ".py",
   "mimetype": "text/x-python",
   "name": "python",
   "nbconvert_exporter": "python",
   "pygments_lexer": "ipython3",
   "version": "3.8.8"
  }
 },
 "nbformat": 4,
 "nbformat_minor": 5
}
